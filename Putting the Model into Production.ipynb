{
 "cells": [
  {
   "cell_type": "code",
   "execution_count": 2,
   "id": "7918f555",
   "metadata": {},
   "outputs": [],
   "source": [
    "import flask\n",
    "from flask import Flask, jsonify, request\n",
    "import json\n",
    "import numpy as np\n",
    "import pickle"
   ]
  },
  {
   "cell_type": "code",
   "execution_count": 3,
   "id": "39e2a41c",
   "metadata": {},
   "outputs": [],
   "source": [
    "def load_models():\n",
    "    file_name = \"/Users/imenkhemaissia/Downloads/model_file.p\"\n",
    "    with open(file_name, 'rb') as pickled:\n",
    "        data = pickle.load(pickled)\n",
    "        model = data['model']\n",
    "    return model\n"
   ]
  },
  {
   "cell_type": "code",
   "execution_count": 4,
   "id": "af23189b",
   "metadata": {},
   "outputs": [
    {
     "ename": "NameError",
     "evalue": "name 'application' is not defined",
     "output_type": "error",
     "traceback": [
      "\u001b[0;31m---------------------------------------------------------------------------\u001b[0m",
      "\u001b[0;31mNameError\u001b[0m                                 Traceback (most recent call last)",
      "Cell \u001b[0;32mIn[4], line 16\u001b[0m\n\u001b[1;32m     13\u001b[0m     \u001b[38;5;28;01mreturn\u001b[39;00m response, \u001b[38;5;241m200\u001b[39m\n\u001b[1;32m     15\u001b[0m \u001b[38;5;28;01mif\u001b[39;00m \u001b[38;5;18m__name__\u001b[39m \u001b[38;5;241m==\u001b[39m \u001b[38;5;124m'\u001b[39m\u001b[38;5;124m__main__\u001b[39m\u001b[38;5;124m'\u001b[39m:\n\u001b[0;32m---> 16\u001b[0m     application\u001b[38;5;241m.\u001b[39mrun(debug\u001b[38;5;241m=\u001b[39m\u001b[38;5;28;01mTrue\u001b[39;00m)\n",
      "\u001b[0;31mNameError\u001b[0m: name 'application' is not defined"
     ]
    }
   ],
   "source": [
    "app = Flask(__name__)\n",
    "@app.route('/predict', methods=['GET'])\n",
    "def predict():\n",
    "    # stub input features\n",
    "    request_json = request.get_json()\n",
    "    x = request_json['input']\n",
    "    #print(x)\n",
    "    x_in = np.array(x).reshape(1,-1)\n",
    "    # load model\n",
    "    model = load_models()\n",
    "    prediction = model.predict(x_in)[0]\n",
    "    response = json.dumps({'response': prediction})\n",
    "    return response, 200\n",
    "\n",
    "if __name__ == '__main__':\n",
    "    application.run(debug=True)"
   ]
  },
  {
   "cell_type": "code",
   "execution_count": null,
   "id": "a824ed3c",
   "metadata": {},
   "outputs": [],
   "source": []
  }
 ],
 "metadata": {
  "kernelspec": {
   "display_name": "Python 3 (ipykernel)",
   "language": "python",
   "name": "python3"
  },
  "language_info": {
   "codemirror_mode": {
    "name": "ipython",
    "version": 3
   },
   "file_extension": ".py",
   "mimetype": "text/x-python",
   "name": "python",
   "nbconvert_exporter": "python",
   "pygments_lexer": "ipython3",
   "version": "3.11.4"
  }
 },
 "nbformat": 4,
 "nbformat_minor": 5
}
